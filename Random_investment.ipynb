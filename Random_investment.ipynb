{
 "cells": [
  {
   "cell_type": "markdown",
   "metadata": {},
   "source": [
    "What return would a random investment strategy generate?"
   ]
  },
  {
   "cell_type": "code",
   "execution_count": 1,
   "metadata": {},
   "outputs": [],
   "source": [
    "#Import\n",
    "import pandas as pd\n",
    "import numpy as np\n",
    "import matplotlib.pyplot as plt\n",
    "%matplotlib inline"
   ]
  },
  {
   "cell_type": "code",
   "execution_count": 2,
   "metadata": {},
   "outputs": [],
   "source": [
    "def get_2019_price_data():\n",
    "    filename = \"./Data/stock_prices_2019.xlsx\"\n",
    "    df = pd.read_excel(filename, index_col='Date')\n",
    "    return df"
   ]
  },
  {
   "cell_type": "code",
   "execution_count": 3,
   "metadata": {},
   "outputs": [],
   "source": [
    "dfPrice = get_2019_price_data()"
   ]
  },
  {
   "cell_type": "code",
   "execution_count": 9,
   "metadata": {},
   "outputs": [],
   "source": [
    "def get_loc_matrix(sampleSize, xMax, yMax):\n",
    "    \"\"\"\n",
    "    xMax -> # of days in sample data\n",
    "    yMax -> # of stocks\n",
    "    generate maxtrix of values => [[0:sampleSize, a=0:xMax, a:yMax]]\n",
    "    \"\"\"\n",
    "    stock = np.random.randint(0, yMax, size=sampleSize)\n",
    "    p1Loc = np.random.randint(0, xMax-1, size=sampleSize)\n",
    "    f = lambda x: np.random.randint(x+1, xMax)\n",
    "    p2Loc = np.array(list(map(f, p1Loc)))\n",
    "    return np.array((stock, p1Loc, p2Loc)).T\n"
   ]
  },
  {
   "cell_type": "code",
   "execution_count": 10,
   "metadata": {},
   "outputs": [],
   "source": [
    "def get_price_matrix_random(p, loc):\n",
    "    p1 = p[loc[:, 1], loc[:, 0]]\n",
    "    p2 = p[loc[:, 2], loc[:, 0]]\n",
    "#     return np.array((p1, p2)).T\n",
    "    return (p2/p1-1)*100"
   ]
  },
  {
   "cell_type": "code",
   "execution_count": 11,
   "metadata": {},
   "outputs": [],
   "source": [
    "p = np.array(dfPrice)\n",
    "loc = get_loc_matrix(100_000, p.shape[0], p.shape[1])\n",
    "random_r = get_price_matrix_random(p, loc)\n",
    "random_r = random_r[~np.isnan(random_r)]"
   ]
  },
  {
   "cell_type": "code",
   "execution_count": 12,
   "metadata": {},
   "outputs": [],
   "source": [
    "def print_stats(r):\n",
    "    r = np.array(r)\n",
    "    r = r[~np.isnan(r)]\n",
    "    for i in ['mean', 'median', 'std', 'min', 'max']:\n",
    "        print(f'{i}: {getattr(np, i)(r): 9.4f}')"
   ]
  },
  {
   "cell_type": "code",
   "execution_count": 13,
   "metadata": {},
   "outputs": [
    {
     "name": "stdout",
     "output_type": "stream",
     "text": [
      "mean:   -0.6700\n",
      "median:   -0.1265\n",
      "std:   39.0248\n",
      "min:  -99.9660\n",
      "max:  4576.1905\n"
     ]
    }
   ],
   "source": [
    "print_stats(random_r)"
   ]
  },
  {
   "cell_type": "code",
   "execution_count": 14,
   "metadata": {},
   "outputs": [
    {
     "data": {
      "image/png": "[encoded data removed]",
      "text/plain": [
       "<Figure size 432x288 with 1 Axes>"
      ]
     },
     "metadata": {
      "needs_background": "light"
     },
     "output_type": "display_data"
    }
   ],
   "source": [
    "plt.hist(random_r, bins=100)\n",
    "plt.show()"
   ]
  },
  {
   "cell_type": "code",
   "execution_count": 15,
   "metadata": {},
   "outputs": [],
   "source": [
    "# remove lowest and highest 1% of range\n",
    "lBound = np.percentile(random_r, 1)\n",
    "uBound = np.percentile(random_r, 99)\n",
    "random_r = random_r[random_r >= lBound]\n",
    "random_r = random_r[random_r <= uBound]"
   ]
  },
  {
   "cell_type": "code",
   "execution_count": 16,
   "metadata": {},
   "outputs": [
    {
     "data": {
      "text/plain": [
       "96101"
      ]
     },
     "execution_count": 16,
     "metadata": {},
     "output_type": "execute_result"
    }
   ],
   "source": [
    "len(random_r)"
   ]
  },
  {
   "cell_type": "code",
   "execution_count": 17,
   "metadata": {},
   "outputs": [
    {
     "name": "stdout",
     "output_type": "stream",
     "text": [
      "mean:   -1.4625\n",
      "median:   -0.1265\n",
      "std:   17.3109\n",
      "min:  -65.5172\n",
      "max:   69.2308\n"
     ]
    }
   ],
   "source": [
    "print_stats(random_r)"
   ]
  },
  {
   "cell_type": "code",
   "execution_count": 18,
   "metadata": {},
   "outputs": [
    {
     "data": {
      "image/png": "[encoded data removed]",
      "text/plain": [
       "<Figure size 432x288 with 1 Axes>"
      ]
     },
     "metadata": {
      "needs_background": "light"
     },
     "output_type": "display_data"
    }
   ],
   "source": [
    "plt.hist(random_r, bins=100)\n",
    "plt.show()"
   ]
  },
  {
   "cell_type": "code",
   "execution_count": 21,
   "metadata": {},
   "outputs": [
    {
     "data": {
      "text/plain": [
       "array([-0.44943779, -6.70956331, 14.8632857 , ..., 46.65437721,\n",
       "        0.7809417 , -0.37510532])"
      ]
     },
     "execution_count": 21,
     "metadata": {},
     "output_type": "execute_result"
    }
   ],
   "source": [
    "random_r"
   ]
  },
  {
   "cell_type": "code",
   "execution_count": 29,
   "metadata": {},
   "outputs": [
    {
     "data": {
      "text/plain": [
       "array([ 28.63534907, -23.00000191,   3.12420517, ...,  10.41059811,\n",
       "         7.24929881,  -2.11920954])"
      ]
     },
     "execution_count": 29,
     "metadata": {},
     "output_type": "execute_result"
    }
   ],
   "source": [
    "np.random.shuffle(random_r)\n",
    "random_r"
   ]
  },
  {
   "cell_type": "code",
   "execution_count": 37,
   "metadata": {},
   "outputs": [
    {
     "data": {
      "image/png": "[encoded data removed]",
      "text/plain": [
       "<Figure size 432x288 with 1 Axes>"
      ]
     },
     "metadata": {
      "needs_background": "light"
     },
     "output_type": "display_data"
    }
   ],
   "source": [
    "mean_arr = [np.mean(random_r[:i]) for i in range(1, 250)]\n",
    "plt.plot(mean_arr)\n",
    "plt.ylabel(\"%\")\n",
    "plt.hlines(0, 1, 250, linestyles='dashed')\n",
    "plt.show()"
   ]
  }
 ],
 "metadata": {
  "kernelspec": {
   "display_name": "Python 3",
   "language": "python",
   "name": "python3"
  },
  "language_info": {
   "codemirror_mode": {
    "name": "ipython",
    "version": 3
   },
   "file_extension": ".py",
   "mimetype": "text/x-python",
   "name": "python",
   "nbconvert_exporter": "python",
   "pygments_lexer": "ipython3",
   "version": "3.7.7"
  }
 },
 "nbformat": 4,
 "nbformat_minor": 4
}
