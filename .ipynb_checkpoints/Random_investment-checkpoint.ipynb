{
 "cells": [
  {
   "cell_type": "markdown",
   "metadata": {},
   "source": [
    "What return would a random investment strategy generate?"
   ]
  },
  {
   "cell_type": "code",
   "execution_count": 3,
   "metadata": {},
   "outputs": [],
   "source": [
    "#Import\n",
    "import pandas as pd\n",
    "import numpy as np\n",
    "import matplotlib.pyplot as plt\n",
    "%matplotlib inline"
   ]
  },
  {
   "cell_type": "code",
   "execution_count": 32,
   "metadata": {},
   "outputs": [],
   "source": [
    "def get_2019_price_data():\n",
    "    filename = \"./Data/stock_prices_2019.xlsx\"\n",
    "    df = pd.read_excel(filename, index_col='Date')\n",
    "    return df"
   ]
  },
  {
   "cell_type": "code",
   "execution_count": 49,
   "metadata": {},
   "outputs": [],
   "source": [
    "dfPrice = get_2019_price_data()"
   ]
  },
  {
   "cell_type": "code",
   "execution_count": 43,
   "metadata": {},
   "outputs": [],
   "source": [
    "def get_loc_matrix(sampleSize, xMax, yMax):\n",
    "\"\"\"\n",
    "xMax -> # of days in sample data\n",
    "yMax -> # of stocks\n",
    "generate maxtrix of values => [[0:sampleSize, a=0:xMax, a:yMax]]\n",
    "\"\"\"\n",
    "    stock = np.random.randint(0, yMax, size=sampleSize)\n",
    "    p1Loc = np.random.randint(0, xMax-1, size=sampleSize)\n",
    "    f = lambda x: np.random.randint(x+1, xMax)\n",
    "    p2Loc = np.array(list(map(f, p1_loc)))\n",
    "    return np.array((stock, p1_loc, p2_loc)).T\n"
   ]
  },
  {
   "cell_type": "code",
   "execution_count": 47,
   "metadata": {},
   "outputs": [],
   "source": [
    "def get_price_matrix_random(p, loc):\n",
    "    p1 = p[loc[:, 1], loc[:, 0]]\n",
    "    p2 = p[loc[:, 2], loc[:, 0]]\n",
    "#     return np.array((p1, p2)).T\n",
    "    return (p2/p1-1)*100"
   ]
  },
  {
   "cell_type": "code",
   "execution_count": 131,
   "metadata": {},
   "outputs": [],
   "source": [
    "p = np.array(dfPrice)\n",
    "loc = get_loc_matrix(100_000, p.shape[0], p.shape[1])\n",
    "random_r = get_price_matrix_random(p, loc)\n",
    "random_r = random_r[~np.isnan(random_r)]"
   ]
  },
  {
   "cell_type": "code",
   "execution_count": 71,
   "metadata": {},
   "outputs": [],
   "source": [
    "def print_stats(r):\n",
    "    r = np.array(r)\n",
    "    r = r[~np.isnan(r)]\n",
    "    for i in ['mean', 'median', 'std', 'min', 'max']:\n",
    "        print(f'{i}: {getattr(np, i)(r): 9.4f}')"
   ]
  },
  {
   "cell_type": "code",
   "execution_count": 108,
   "metadata": {},
   "outputs": [
    {
     "name": "stdout",
     "output_type": "stream",
     "text": [
      "mean:   -0.8291\n",
      "median:   -0.0981\n",
      "std:   28.2469\n",
      "min:  -99.9676\n",
      "max:  2915.0505\n"
     ]
    }
   ],
   "source": [
    "print_stats(random_r)"
   ]
  },
  {
   "cell_type": "code",
   "execution_count": 109,
   "metadata": {},
   "outputs": [
    {
     "data": {
      "image/png": "[encoded data removed]",
      "text/plain": [
       "<Figure size 432x288 with 1 Axes>"
      ]
     },
     "metadata": {
      "needs_background": "light"
     },
     "output_type": "display_data"
    }
   ],
   "source": [
    "plt.hist(random_r, bins=100)\n",
    "plt.show()"
   ]
  },
  {
   "cell_type": "code",
   "execution_count": 132,
   "metadata": {},
   "outputs": [],
   "source": [
    "# remove lowest and highest 1% of range\n",
    "lBound = np.percentile(random_r, 1)\n",
    "uBound = np.percentile(random_r, 99)\n",
    "random_r = random_r[random_r >= lBound]\n",
    "random_r = random_r[random_r <= uBound]"
   ]
  },
  {
   "cell_type": "code",
   "execution_count": 133,
   "metadata": {},
   "outputs": [
    {
     "data": {
      "text/plain": [
       "96006"
      ]
     },
     "execution_count": 133,
     "metadata": {},
     "output_type": "execute_result"
    }
   ],
   "source": [
    "len(random_r)"
   ]
  },
  {
   "cell_type": "code",
   "execution_count": 134,
   "metadata": {},
   "outputs": [
    {
     "name": "stdout",
     "output_type": "stream",
     "text": [
      "mean:   -1.3728\n",
      "median:   -0.0836\n",
      "std:   17.4910\n",
      "min:  -65.8203\n",
      "max:   71.6418\n"
     ]
    }
   ],
   "source": [
    "print_stats(random_r)"
   ]
  },
  {
   "cell_type": "code",
   "execution_count": 135,
   "metadata": {},
   "outputs": [
    {
     "data": {
      "image/png": "[encoded data removed]",
      "text/plain": [
       "<Figure size 432x288 with 1 Axes>"
      ]
     },
     "metadata": {
      "needs_background": "light"
     },
     "output_type": "display_data"
    }
   ],
   "source": [
    "plt.hist(random_r, bins=100)\n",
    "plt.show()"
   ]
  },
  {
   "cell_type": "code",
   "execution_count": 147,
   "metadata": {},
   "outputs": [
    {
     "data": {
      "image/png": "[encoded data removed]",
      "text/plain": [
       "<Figure size 432x288 with 1 Axes>"
      ]
     },
     "metadata": {
      "needs_background": "light"
     },
     "output_type": "display_data"
    }
   ],
   "source": [
    "mean_arr = [np.mean(random_r[:i]) for i in range(1, 100)]\n",
    "plt.plot(mean_arr)\n",
    "plt.show()"
   ]
  }
 ],
 "metadata": {
  "kernelspec": {
   "display_name": "Python 3",
   "language": "python",
   "name": "python3"
  },
  "language_info": {
   "codemirror_mode": {
    "name": "ipython",
    "version": 3
   },
   "file_extension": ".py",
   "mimetype": "text/x-python",
   "name": "python",
   "nbconvert_exporter": "python",
   "pygments_lexer": "ipython3",
   "version": "3.7.7"
  }
 },
 "nbformat": 4,
 "nbformat_minor": 4
}
